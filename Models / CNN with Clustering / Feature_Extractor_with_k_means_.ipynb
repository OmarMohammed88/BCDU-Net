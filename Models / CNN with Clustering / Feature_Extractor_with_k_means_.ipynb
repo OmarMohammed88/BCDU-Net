{
  "nbformat": 4,
  "nbformat_minor": 0,
  "metadata": {
    "colab": {
      "name": "Feature Extractor with k-means .ipynb",
      "provenance": [],
      "collapsed_sections": [],
      "authorship_tag": "ABX9TyPkE4yd/q6R/8Is9+9z1Nn6",
      "include_colab_link": true
    },
    "kernelspec": {
      "name": "python3",
      "display_name": "Python 3"
    },
    "accelerator": "GPU"
  },
  "cells": [
    {
      "cell_type": "markdown",
      "metadata": {
        "id": "view-in-github",
        "colab_type": "text"
      },
      "source": [
        "<a href=\"https://colab.research.google.com/github/OmarMohammed88/BCDU-Net/blob/master/Models%20/%20CNN%20with%20Clustering%20/%20Feature_Extractor_with_k_means_.ipynb\" target=\"_parent\"><img src=\"https://colab.research.google.com/assets/colab-badge.svg\" alt=\"Open In Colab\"/></a>"
      ]
    },
    {
      "cell_type": "code",
      "metadata": {
        "id": "2WhXUKGpRX3H"
      },
      "source": [
        "!pip install gdown"
      ],
      "execution_count": null,
      "outputs": []
    },
    {
      "cell_type": "code",
      "metadata": {
        "colab": {
          "base_uri": "https://localhost:8080/"
        },
        "id": "0MKyGv2LQjn_",
        "outputId": "3a61b0b4-56b4-4769-e58f-9fc32e3de74c"
      },
      "source": [
        "!gdown https://drive.google.com/uc?id=1GTGwWsm2oU89OFWZrCKFYC0LAaY_IOqb"
      ],
      "execution_count": 1,
      "outputs": [
        {
          "output_type": "stream",
          "text": [
            "Downloading...\n",
            "From: https://drive.google.com/uc?id=1GTGwWsm2oU89OFWZrCKFYC0LAaY_IOqb\n",
            "To: /content/Sample_Pages (1).rar\n",
            "12.3MB [00:00, 33.8MB/s]\n"
          ],
          "name": "stdout"
        }
      ]
    },
    {
      "cell_type": "code",
      "metadata": {
        "id": "CuCxXFSjRW35"
      },
      "source": [
        "!mkdir /content/data\n",
        "!unrar e '/content/Sample_Pages (1).rar'  '/content/data'"
      ],
      "execution_count": null,
      "outputs": []
    },
    {
      "cell_type": "code",
      "metadata": {
        "id": "CW7l47OyIOtz"
      },
      "source": [
        "import os,glob\n",
        "images_paths=glob.glob(\"/content/data/*\")\n"
      ],
      "execution_count": 3,
      "outputs": []
    },
    {
      "cell_type": "code",
      "metadata": {
        "id": "VNFcbbSZJBJN"
      },
      "source": [
        "from tensorflow.keras.applications.vgg16 import VGG16\n",
        "from tensorflow.keras.preprocessing import image\n",
        "from tensorflow.keras.applications.vgg16 import preprocess_input\n",
        "from tensorflow.keras.models import Model\n",
        "import numpy as np\n"
      ],
      "execution_count": 4,
      "outputs": []
    },
    {
      "cell_type": "code",
      "metadata": {
        "id": "npuPZAVcJRNe",
        "colab": {
          "base_uri": "https://localhost:8080/"
        },
        "outputId": "278c071c-75ce-4f7e-e9b5-3a7b1f5c9c8f"
      },
      "source": [
        "base_model=VGG16(weights='imagenet',pooling=\"avg\")\n",
        "model = Model(inputs=base_model.input,outputs=base_model.get_layer(\"block5_pool\").output)\n"
      ],
      "execution_count": 5,
      "outputs": [
        {
          "output_type": "stream",
          "text": [
            "Downloading data from https://storage.googleapis.com/tensorflow/keras-applications/vgg16/vgg16_weights_tf_dim_ordering_tf_kernels.h5\n",
            "553467904/553467096 [==============================] - 5s 0us/step\n"
          ],
          "name": "stdout"
        }
      ]
    },
    {
      "cell_type": "code",
      "metadata": {
        "id": "WpE1N9F7h_ec"
      },
      "source": [
        "model.summary()"
      ],
      "execution_count": null,
      "outputs": []
    },
    {
      "cell_type": "code",
      "metadata": {
        "id": "hWIMEEs0ZqNE"
      },
      "source": [
        "listof_np_image = []\n",
        "for i in images_paths:\n",
        "  img = image.load_img(i, target_size=(224, 224))\n",
        "  x = image.img_to_array(img)\n",
        "  x = np.expand_dims(x, axis=0)\n",
        "  x = preprocess_input(x)\n",
        "\n",
        "  features = model.predict(x)\n",
        "  listof_np_image.append(features[0])\n"
      ],
      "execution_count": 7,
      "outputs": []
    },
    {
      "cell_type": "code",
      "metadata": {
        "id": "0TyRugmybRRF"
      },
      "source": [
        "from sklearn import preprocessing;\n",
        "from IPython.display import clear_output;\n",
        "import gensim;\n",
        "from gensim.models import KeyedVectors;\n",
        "from sklearn.cluster import KMeans\n",
        "import matplotlib.pyplot as plt\n",
        "from sklearn.model_selection import train_test_split\n",
        "from sklearn.feature_extraction.text import TfidfVectorizer\n",
        "from sklearn.metrics import accuracy_score\n",
        "from sklearn.preprocessing import MultiLabelBinarizer\n",
        "from sklearn.multiclass import OneVsRestClassifier\n",
        "from sklearn.linear_model import LogisticRegression\n",
        "from sklearn.pipeline import Pipeline"
      ],
      "execution_count": 8,
      "outputs": []
    },
    {
      "cell_type": "code",
      "metadata": {
        "id": "pu3zGWM4N5OP"
      },
      "source": [
        "def Elbow_k_mean(X):\n",
        "  distortions = []\n",
        "  K = range(1,10)\n",
        "  for k in K:\n",
        "    kmeanModel = KMeans(n_clusters=k)\n",
        "    kmeanModel.fit(X.reshape(-1,1))\n",
        "    distortions.append(kmeanModel.inertia_)\n",
        "      \n",
        "  plt.figure(figsize=(16,8))\n",
        "  plt.plot(K, distortions, 'bx-')\n",
        "  plt.xlabel('k')\n",
        "  plt.ylabel('Distortion')\n",
        "  plt.title('The Elbow Method showing the optimal k')\n",
        "  plt.show()"
      ],
      "execution_count": 9,
      "outputs": []
    },
    {
      "cell_type": "code",
      "metadata": {
        "colab": {
          "base_uri": "https://localhost:8080/",
          "height": 512
        },
        "id": "oTRz8poaStHr",
        "outputId": "6d1a29e8-84f6-41fa-8736-9fa5519fa467"
      },
      "source": [
        "dist = Elbow_k_mean(np.array(listof_np_image))\n"
      ],
      "execution_count": 10,
      "outputs": [
        {
          "output_type": "display_data",
          "data": {
            "image/png": "[encoded data removed]",
            "text/plain": [
              "<Figure size 1152x576 with 1 Axes>"
            ]
          },
          "metadata": {
            "tags": [],
            "needs_background": "light"
          }
        }
      ]
    },
    {
      "cell_type": "code",
      "metadata": {
        "id": "k8Kv8q1tbGoO"
      },
      "source": [
        "kmeans = KMeans(n_clusters=4, random_state=0).fit(np.array(listof_np_image).reshape(40,-1))"
      ],
      "execution_count": 99,
      "outputs": []
    },
    {
      "cell_type": "code",
      "metadata": {
        "colab": {
          "base_uri": "https://localhost:8080/"
        },
        "id": "p9j83j_McZEY",
        "outputId": "0659360a-08f4-47ad-8ffe-07f4e36ce889"
      },
      "source": [
        "len(kmeans.labels_)"
      ],
      "execution_count": 100,
      "outputs": [
        {
          "output_type": "execute_result",
          "data": {
            "text/plain": [
              "40"
            ]
          },
          "metadata": {
            "tags": []
          },
          "execution_count": 100
        }
      ]
    },
    {
      "cell_type": "code",
      "metadata": {
        "id": "ToxBv-uzdUot"
      },
      "source": [
        "class_0 = []\n",
        "class_1 = []\n",
        "class_2 =[]\n",
        "for label,name in zip(kmeans.labels_,images_paths):\n",
        "  if label==0:\n",
        "    class_0.append((name,label))\n",
        "  elif label==1:\n",
        "    class_1.append((name,label))\n",
        "  elif label==2:\n",
        "    class_2.append((name,label))\n"
      ],
      "execution_count": 157,
      "outputs": []
    },
    {
      "cell_type": "code",
      "metadata": {
        "id": "d08_nJCgEnQn"
      },
      "source": [
        "# images = os.listdir('/content/data')\n",
        "import numpy as np\n",
        "import matplotlib.pyplot as plt\n",
        "import cv2\n",
        "\n",
        "\n",
        "def plot_images(class_):\n",
        "  files_class_ = [i[0] for i in class_]\n",
        "\n",
        "  fig=plt.figure(figsize=(8, 8))\n",
        "  columns = 4\n",
        "  rows = 5\n",
        "  x = 0\n",
        "  for i in range(1, columns*rows +1):\n",
        "      img = plt.imread(files_class_[i])\n",
        "      fig.add_subplot(rows, columns, i)\n",
        "      plt.imshow(img)\n",
        "      x = x+1\n",
        "  plt.show()"
      ],
      "execution_count": 178,
      "outputs": []
    },
    {
      "cell_type": "code",
      "metadata": {
        "colab": {
          "base_uri": "https://localhost:8080/"
        },
        "id": "CnXtGYk3EnKS",
        "outputId": "8b9b6c3f-773f-4a9a-c7ed-6454ba348524"
      },
      "source": [
        "print(len(class_1))\n",
        "print(len(class_0))\n",
        "print(len(class_2))"
      ],
      "execution_count": 201,
      "outputs": [
        {
          "output_type": "stream",
          "text": [
            "18\n",
            "17\n",
            "4\n"
          ],
          "name": "stdout"
        }
      ]
    },
    {
      "cell_type": "code",
      "metadata": {
        "colab": {
          "base_uri": "https://localhost:8080/"
        },
        "id": "RYOd_SiwFufj",
        "outputId": "d01bc39c-6524-48d5-b051-4857e4b28bde"
      },
      "source": [
        "len(class_2)"
      ],
      "execution_count": 166,
      "outputs": [
        {
          "output_type": "execute_result",
          "data": {
            "text/plain": [
              "4"
            ]
          },
          "metadata": {
            "tags": []
          },
          "execution_count": 166
        }
      ]
    },
    {
      "cell_type": "markdown",
      "metadata": {
        "id": "NgAA25zH8Npm"
      },
      "source": [
        "##Hub Module"
      ]
    },
    {
      "cell_type": "code",
      "metadata": {
        "id": "WXtYZEo48IeC"
      },
      "source": [
        "import tensorflow as tf\n",
        "import tensorflow_hub as hub\n",
        "import cv2"
      ],
      "execution_count": 17,
      "outputs": []
    },
    {
      "cell_type": "code",
      "metadata": {
        "id": "uZyfYGBc573u"
      },
      "source": [
        "module_hub = hub.KerasLayer(\"https://tfhub.dev/google/bit/m-r152x4/imagenet21k_classification/1\")\n",
        "# images = ...  # A batch of images with shape [batch_size, height, width, 3].\n"
      ],
      "execution_count": 4,
      "outputs": []
    },
    {
      "cell_type": "code",
      "metadata": {
        "id": "cJPbjB2K57yH"
      },
      "source": [
        "def hub_module(imag_path):\n",
        "  feature_list = []\n",
        "  for img in imag_path:\n",
        "    img = image.load_img(img, target_size=(224, 224,3))\n",
        "    img = image.img_to_array(img)\n",
        "    img = np.expand_dims(img, axis=0)\n",
        "    img = preprocess_input(img)\n",
        "    features = module_hub(img)  # Features with shape [batch_size, 2048].\n",
        "    feature_list.append(features.numpy())\n",
        "  return np.array(feature_list)\n"
      ],
      "execution_count": 5,
      "outputs": []
    },
    {
      "cell_type": "code",
      "metadata": {
        "id": "bRQV-Y4O57sh"
      },
      "source": [
        "hub_featrues =  hub_module(images_paths)"
      ],
      "execution_count": 11,
      "outputs": []
    },
    {
      "cell_type": "code",
      "metadata": {
        "colab": {
          "base_uri": "https://localhost:8080/",
          "height": 513
        },
        "id": "h5wpFIJI57m2",
        "outputId": "269d1325-08cb-4181-c547-b9b51a89658b"
      },
      "source": [
        "dist_hub = Elbow_k_mean(hub_featrues)\n"
      ],
      "execution_count": 12,
      "outputs": [
        {
          "output_type": "display_data",
          "data": {
            "image/png": "[encoded data removed]",
            "text/plain": [
              "<Figure size 1152x576 with 1 Axes>"
            ]
          },
          "metadata": {
            "tags": [],
            "needs_background": "light"
          }
        }
      ]
    },
    {
      "cell_type": "markdown",
      "metadata": {
        "id": "gKGcXeSh8tZm"
      },
      "source": [
        ""
      ]
    },
    {
      "cell_type": "code",
      "metadata": {
        "id": "zjG4iCfQ_m0K"
      },
      "source": [
        "kmeans_hub = KMeans(n_clusters=4, random_state=0).fit(hub_featrues.reshape(40,-1))"
      ],
      "execution_count": 13,
      "outputs": []
    },
    {
      "cell_type": "code",
      "metadata": {
        "id": "6b8cRE25_mwG"
      },
      "source": [
        "hub_class_0 = []\n",
        "hub_class_1 = []\n",
        "hub_class_2 = []\n",
        "\n",
        "for label,name in zip(kmeans_hub.labels_,images_paths):\n",
        "  if label==0:\n",
        "    hub_class_0.append((name,label))\n",
        "  elif label==1:\n",
        "    hub_class_1.append((name,label))\n",
        "  elif label==2:\n",
        "    hub_class_2.append((name,label))\n"
      ],
      "execution_count": 14,
      "outputs": []
    },
    {
      "cell_type": "code",
      "metadata": {
        "id": "PuWIqHc__mjI"
      },
      "source": [
        "def plot_images(class_):\n",
        "  fig = plt.figure(1,figsize=(100,100))\n",
        "  k = 1\n",
        "  for title in class_:\n",
        "      ax = fig.add_subplot(len(class_),1,k)\n",
        "      x=cv2.imread(title[0])\n",
        "      ax.imshow(x)\n",
        "      ax.axis('off')\n",
        "      k += 1"
      ],
      "execution_count": 15,
      "outputs": []
    },
    {
      "cell_type": "code",
      "metadata": {
        "id": "mXQLh2-zSMYj"
      },
      "source": [
        "plot_images(hub_class_0)"
      ],
      "execution_count": null,
      "outputs": []
    },
    {
      "cell_type": "code",
      "metadata": {
        "id": "3Ie8_6RbS6q5"
      },
      "source": [
        "plot_images(hub_class_1)"
      ],
      "execution_count": null,
      "outputs": []
    },
    {
      "cell_type": "code",
      "metadata": {
        "id": "JdMTg64HT2k3"
      },
      "source": [
        "plot_images(hub_class_2)"
      ],
      "execution_count": null,
      "outputs": []
    },
    {
      "cell_type": "code",
      "metadata": {
        "id": "8-oMxkP6UUg7"
      },
      "source": [
        ""
      ],
      "execution_count": null,
      "outputs": []
    },
    {
      "cell_type": "markdown",
      "metadata": {
        "id": "ka7PuAXQhgH1"
      },
      "source": [
        "## Vitualization "
      ]
    },
    {
      "cell_type": "code",
      "metadata": {
        "id": "RT1jVfL-hiWn"
      },
      "source": [
        ""
      ],
      "execution_count": null,
      "outputs": []
    }
  ]
}